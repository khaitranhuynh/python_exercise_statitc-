{
 "cells": [
  {
   "cell_type": "markdown",
   "metadata": {},
   "source": [
    "### MSSV: 1712828 - Huỳnh Thanh Khải Trân"
   ]
  },
  {
   "cell_type": "code",
   "execution_count": 3,
   "metadata": {},
   "outputs": [],
   "source": [
    "import numpy as np\n",
    "from fractions import Fraction\n"
   ]
  },
  {
   "cell_type": "markdown",
   "metadata": {},
   "source": [
    "##### Câu 1:\n",
    "$$ Pr(X0=2) = 1- Pr(X0=1) - Pr(X0=0) = \\frac{1}{2} $$\n",
    "Phân phối của X0 là: $$ \\alpha = [\\frac{1}{4},\\frac{1}{4},\\frac{1}{2}] $$"
   ]
  },
  {
   "cell_type": "code",
   "execution_count": 46,
   "metadata": {},
   "outputs": [],
   "source": [
    "\n",
    "p=np.matrix([\n",
    "    [1/2, 1/6, 1/3],\n",
    "    [0, 2/3, 1/3],\n",
    "    [1/2, 0, 1/2]\n",
    "])\n",
    "X0 = np.matrix([[1/4, 1/4, 1/2]])"
   ]
  },
  {
   "cell_type": "code",
   "execution_count": 45,
   "metadata": {},
   "outputs": [
    {
     "name": "stdout",
     "output_type": "stream",
     "text": [
      "a) P(X9=0|X7=1)= 0.16666666666666666\n"
     ]
    }
   ],
   "source": [
    "#cau a -- ma tran 2 buoc chuyen tu trang thai 1 sang trang thai 0 \n",
    "print('a) P(X9=0|X7=1)=', (p**2)[1,0])"
   ]
  },
  {
   "cell_type": "markdown",
   "metadata": {},
   "source": [
    "#### câu b"
   ]
  },
  {
   "cell_type": "markdown",
   "metadata": {},
   "source": [
    "Dùng định lý Bayes ta có:\n",
    "$$P(X_0 = 2| X_1 = 1) = \\frac{P(X_0 = 2)P(X_1=1 | X_0=2)}{P(X_1=1)}$$"
   ]
  },
  {
   "cell_type": "code",
   "execution_count": 11,
   "metadata": {},
   "outputs": [
    {
     "name": "stdout",
     "output_type": "stream",
     "text": [
      "[[0.375      0.20833333 0.41666667]]\n"
     ]
    }
   ],
   "source": [
    "X1 = X0*p\n",
    "print(X1)"
   ]
  },
  {
   "cell_type": "code",
   "execution_count": 44,
   "metadata": {
    "scrolled": true
   },
   "outputs": [
    {
     "name": "stdout",
     "output_type": "stream",
     "text": [
      "ket qua P(X0=2|X1=1)= 0.0\n"
     ]
    }
   ],
   "source": [
    "print('ket qua P(X0=2|X1=1)=',X0[0,2]*p[2, 1]/X1[0,1])"
   ]
  },
  {
   "cell_type": "markdown",
   "metadata": {},
   "source": [
    "#### câu c\n",
    "Dùng định lý Bayes ta có:\n",
    "$$P(X_1 = 2| X_3 = 2) = \\frac{P(X_1 = 2)P(X_3=2 | X_1=2)}{P(X_3=2)}$$"
   ]
  },
  {
   "cell_type": "code",
   "execution_count": 22,
   "metadata": {},
   "outputs": [
    {
     "name": "stdout",
     "output_type": "stream",
     "text": [
      "[[0.39930556 0.20023148 0.40046296]]\n"
     ]
    }
   ],
   "source": [
    "X3 = X0*(p**3)\n",
    "print(X3)"
   ]
  },
  {
   "cell_type": "code",
   "execution_count": 41,
   "metadata": {},
   "outputs": [
    {
     "name": "stdout",
     "output_type": "stream",
     "text": [
      "ket qua P(X1=2|X3=1)= 0.4335260115606936\n"
     ]
    }
   ],
   "source": [
    "print('ket qua P(X1=2|X3=1)=',X1[0, 2]*(p**2)[2,2]/X3[0, 2])"
   ]
  },
  {
   "cell_type": "markdown",
   "metadata": {},
   "source": [
    "#### câu d: "
   ]
  },
  {
   "cell_type": "code",
   "execution_count": 24,
   "metadata": {},
   "outputs": [
    {
     "name": "stdout",
     "output_type": "stream",
     "text": [
      "[[0.39930556 0.20023148 0.40046296]]\n"
     ]
    }
   ],
   "source": [
    "#cau d\n",
    "X3 = X0*(p**3)\n",
    "print(X3)"
   ]
  },
  {
   "cell_type": "markdown",
   "metadata": {},
   "source": [
    "Khi đó, ta có:\n",
    "    $$ E(X_3) = \\sum_{i \\in S} i P(X_3 = i) $$"
   ]
  },
  {
   "cell_type": "code",
   "execution_count": 26,
   "metadata": {},
   "outputs": [
    {
     "name": "stdout",
     "output_type": "stream",
     "text": [
      "[[0]\n",
      " [1]\n",
      " [2]]\n"
     ]
    }
   ],
   "source": [
    "S = np.matrix([\n",
    "    [0],\n",
    "    [1],\n",
    "    [2]\n",
    "])\n",
    "print(S)"
   ]
  },
  {
   "cell_type": "code",
   "execution_count": 27,
   "metadata": {},
   "outputs": [
    {
     "name": "stdout",
     "output_type": "stream",
     "text": [
      "[[1.00115741]]\n"
     ]
    }
   ],
   "source": [
    "E_X3 = X3 * S\n",
    "print(E_X3)"
   ]
  },
  {
   "cell_type": "markdown",
   "metadata": {},
   "source": [
    "#### Câu 2:"
   ]
  },
  {
   "cell_type": "markdown",
   "metadata": {},
   "source": [
    "Ta có:\n",
    "$$ A = \\{X_0, X_1, X_2, ...\\} $$\n",
    "$$ A = \\{X_0, X_0 * P, X_0 * P^2, ...\\} $$\n",
    "Ta có: \n",
    "$$ B = \\{Y_0, Y_1, Y_2, ...\\} $$\n",
    "$$ B = \\{X_0, X_3, X_6, ...\\} $$\n",
    "$$ B = \\{X_0, X_0 * P^3, X_0 * P^6, ...\\} $$\n",
    "$$ B = \\{X_0, X_0 * (P^3)^1, X_0 * (P^3)^2, ...\\}$$\n",
    "\n",
    "Vậy $ B = \\{Y_0, Y_1, Y_2, ...\\} $ với $Y_n = X_3n$ là một xích Markov với $P = P^3$\n",
    "\n",
    "\n",
    "\n"
   ]
  },
  {
   "cell_type": "markdown",
   "metadata": {},
   "source": [
    "#### Câu 3:"
   ]
  },
  {
   "cell_type": "markdown",
   "metadata": {},
   "source": [
    "Thay thế các bi là một xích markov với ma trận chuyển trạng thái:\n",
    "\n",
    "$\\begin{bmatrix}0.7&0.3\\\\0.3&0.7\\end{bmatrix}$\n",
    "\n",
    "với tập trạng thái là $S=\\{0,1\\}$ (đỏ:0; đen:1)\n"
   ]
  },
  {
   "cell_type": "code",
   "execution_count": 36,
   "metadata": {},
   "outputs": [
    {
     "name": "stdout",
     "output_type": "stream",
     "text": [
      "[[0.7 0.3]\n",
      " [0.3 0.7]]\n"
     ]
    }
   ],
   "source": [
    "import numpy as np\n",
    "p3=np.matrix([\n",
    "    [0.7, 0.3],\n",
    "    [0.3, 0.7]\n",
    "])\n",
    "print(p1)"
   ]
  },
  {
   "cell_type": "markdown",
   "metadata": {},
   "source": [
    "Vì ban đầu trong hộp toàn bi đỏ đỏ nên $X0=0$. <br> Do đó xác xuất để lần 5 vẫn bốc dc bi đỏ là:<br>\n",
    "$Pr(X_4=0|X_0=0)=P_{0 0}^{(4)}$ (do đếm từ 0; 5 lần bốc => 4 lần chuyển trạng thái)"
   ]
  },
  {
   "cell_type": "code",
   "execution_count": 39,
   "metadata": {},
   "outputs": [
    {
     "name": "stdout",
     "output_type": "stream",
     "text": [
      "Xac xuat la:  0.5127999999999999\n"
     ]
    }
   ],
   "source": [
    "X_0 = 0;\n",
    "#Xác xuất bốc được bi đỏ ở lần thứ 5:\n",
    "X_4 = p3**4\n",
    "print('Xac xuat la: ',X_4[0,0])"
   ]
  },
  {
   "cell_type": "code",
   "execution_count": null,
   "metadata": {},
   "outputs": [],
   "source": []
  }
 ],
 "metadata": {
  "kernelspec": {
   "display_name": "Python 3",
   "language": "python",
   "name": "python3"
  },
  "language_info": {
   "codemirror_mode": {
    "name": "ipython",
    "version": 3
   },
   "file_extension": ".py",
   "mimetype": "text/x-python",
   "name": "python",
   "nbconvert_exporter": "python",
   "pygments_lexer": "ipython3",
   "version": "3.7.6"
  }
 },
 "nbformat": 4,
 "nbformat_minor": 4
}
