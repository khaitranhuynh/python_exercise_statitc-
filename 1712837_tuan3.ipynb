{
 "cells": [
  {
   "cell_type": "markdown",
   "metadata": {},
   "source": [
    "# <center><b>TOÁN ỨNG DỤNG VÀ THỐNG KÊ</b><br>Bài tập</center></h1>\n",
   ]
  },
  {
   "cell_type": "code",
   "execution_count": 2,
   "metadata": {},
   "outputs": [],
   "source": [
    "from IPython.display import SVG, Math\n",
    "from fractions import Fraction as F\n",
    "import matplotlib.pyplot as plt\n",
    "import numpy as np"
   ]
  },
  {
   "cell_type": "markdown",
   "metadata": {},
   "source": [
    "### <u>Câu 1:</u>"
   ]
  },
  {
   "cell_type": "markdown",
   "metadata": {},
   "source": [
    "a/ $Pr(X_9=0|X_1=2, X_7=1, X_4=2)\\\\\n",
    "= Pr(X_9=0|X_7=1)\\\\\n",
    "= Pr(X_2=0|X_0=1)\\\\\n",
    "= P_{1 0}^{(2)}\\\\\n",
    "$"
   ]
  },
  {
   "cell_type": "code",
   "execution_count": 4,
   "metadata": {},
   "outputs": [
    {
     "data": {
      "text/plain": [
       "matrix([[0.41666667, 0.19444444, 0.38888889],\n",
       "        [0.16666667, 0.44444444, 0.38888889],\n",
       "        [0.5       , 0.08333333, 0.41666667]])"
      ]
     },
     "execution_count": 4,
     "metadata": {},
     "output_type": "execute_result"
    }
   ],
   "source": [
    "P=np.matrix([[1/2,1/6,1/3],[0,2/3,1/3],[1/2,0,1/2]])\n",
    "A=(P**2)\n",
    "A"
   ]
  },
  {
   "cell_type": "code",
   "execution_count": 5,
   "metadata": {},
   "outputs": [
    {
     "name": "stdout",
     "output_type": "stream",
     "text": [
      "Ket qua la 0.16666666666666666\n"
     ]
    }
   ],
   "source": [
    "print(\"Ket qua la\", A[1,0])"
   ]
  },
  {
   "cell_type": "markdown",
   "metadata": {},
   "source": [
    "b/ $Pr(X_0=2|X_1=1)=0$"
   ]
  },
  {
   "cell_type": "markdown",
   "metadata": {},
   "source": [
    "c/ $Pr(X_1=X_3=2)\\\\\n",
    "=Pr(X_3=2|X_1=2)Pr(X_1=2)\\\\\n",
    "=Pr(X_2=2|X_0=2)Pr(X_1=2)\\\\\n",
    "=P_{2 2}^{(2)}(\\alpha P)_2\n",
    "$"
   ]
  },
  {
   "cell_type": "code",
   "execution_count": 6,
   "metadata": {},
   "outputs": [
    {
     "data": {
      "text/plain": [
       "matrix([[0.39583333, 0.20138889, 0.40277778]])"
      ]
     },
     "execution_count": 6,
     "metadata": {},
     "output_type": "execute_result"
    }
   ],
   "source": [
    "alpha=[1/4,1/4,1/2]\n",
    "B=alpha*A\n",
    "B"
   ]
  },
  {
   "cell_type": "code",
   "execution_count": 7,
   "metadata": {},
   "outputs": [
    {
     "name": "stdout",
     "output_type": "stream",
     "text": [
      "Ket qua la 0.16782407407407404\n"
     ]
    }
   ],
   "source": [
    "print(\"Ket qua la\",A[2,2]*B[0,2])"
   ]
  },
  {
   "cell_type": "markdown",
   "metadata": {},
   "source": [
    "d/ $E(X_3)$"
   ]
  },
  {
   "cell_type": "code",
   "execution_count": 11,
   "metadata": {},
   "outputs": [
    {
     "name": "stdout",
     "output_type": "stream",
     "text": [
      "Ket qua la [[0.39930556 0.20023148 0.40046296]]\n"
     ]
    }
   ],
   "source": [
    "print(\"Ket qua la\",alpha*(P**3))"
   ]
  },
  {
   "cell_type": "markdown",
   "metadata": {},
   "source": [
    "### <u>Câu 2:</u>"
   ]
  },
  {
   "cell_type": "markdown",
   "metadata": {},
   "source": [
    "Ta có:<br>\n",
    "$A = \\{X_0, X_1, X_2, ...\\}\n",
    "\\\\= \\{X_0, X_0 * P, X_0 * P^2, ...\\}$<br>\n",
    "Ta có:<br>\n",
    "$ B = \\{Y_0, Y_1, Y_2, ...\\}\n",
    "\\\\= \\{X_0, X_3, X_6, ...\\}\n",
    "\\\\=\\{X_0, X_0 * P^3, X_0 * P^6, ...\\}\n",
    "\\\\= \\{X_0, X_0 * (P^3)^1, X_0 * (P^3)^2, ...\\}$\n",
    "\n",
    "Vậy $ B = \\{Y_0, Y_1, Y_2, ...\\} $ với $Y_n = X_3n$ là một xích Markov với ma trận chuyển là $P^3$"
   ]
  },
  {
   "cell_type": "markdown",
   "metadata": {},
   "source": [
    "### <u>Câu 3:</u>"
   ]
  },
  {
   "cell_type": "markdown",
   "metadata": {},
   "source": [
    "Ma trận chuyển là:"
   ]
  },
  {
   "cell_type": "markdown",
   "metadata": {},
   "source": [
    "$\\begin{bmatrix}0.7&0.3\\\\0.3&0.7\\end{bmatrix}$"
   ]
  },
  {
   "cell_type": "markdown",
   "metadata": {},
   "source": [
    "Gọi bi đỏ có giá trị là 0 và bi đen có giá trị là 1<br>\n",
    "Vì ban đầu trong hộp toàn bi đỏ và bốc lần thứ 5 bi đỏ nên xác xuất là:<br>\n",
    "$Pr(X_=0|X_0=0)\n",
    "\\\\=P_{0 0}^{(5)}$"
   ]
  },
  {
   "cell_type": "code",
   "execution_count": 4,
   "metadata": {},
   "outputs": [
    {
     "name": "stdout",
     "output_type": "stream",
     "text": [
      "Ket qua la 0.5051199999999999\n"
     ]
    }
   ],
   "source": [
    "P3=np.matrix([[0.7, 0.3],[0.3, 0.7]])\n",
    "kq=P3**5\n",
    "print(\"Ket qua la\",kq[0,0])"
   ]
  },
  {
   "cell_type": "code",
   "execution_count": null,
   "metadata": {},
   "outputs": [],
   "source": []
  }
 ],
 "metadata": {
  "kernelspec": {
   "display_name": "Python 3",
   "language": "python",
   "name": "python3"
  },
  "language_info": {
   "codemirror_mode": {
    "name": "ipython",
    "version": 3
   },
   "file_extension": ".py",
   "mimetype": "text/x-python",
   "name": "python",
   "nbconvert_exporter": "python",
   "pygments_lexer": "ipython3",
   "version": "3.7.6"
  }
 },
 "nbformat": 4,
 "nbformat_minor": 4
}
