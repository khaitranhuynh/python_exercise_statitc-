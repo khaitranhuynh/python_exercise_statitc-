{
 "cells": [
  {
   "cell_type": "markdown",
   "metadata": {},
   "source": [
    "## 1712828- Huỳnh Thanh Khải Trân\n",
    "\n",
    "## Bài tập 2 (tuần 3)\n"
   ]
  },
  {
   "cell_type": "code",
   "execution_count": 1,
   "metadata": {},
   "outputs": [],
   "source": [
    "from IPython.display import SVG, Math\n",
    "from fractions import Fraction as F\n",
    "import matplotlib.pyplot as plt\n",
    "from IPython.display import Markdown\n",
    " "
   ]
  },
  {
   "cell_type": "markdown",
   "metadata": {},
   "source": [
    "### Câu 1: xác suất trò tôm cua"
   ]
  },
  {
   "cell_type": "markdown",
   "metadata": {},
   "source": [
    "##### Đầu tiên ta xét xác xuất các trường hợp xúc xắc có thể xảy ra: \n",
    "\n",
    "* Xác xuất để 3 cục ra 1 mặt giống nhau: $$ P3= 6 \\times (\\frac{1}{6})^3 $$"
   ]
  },
  {
   "cell_type": "code",
   "execution_count": 2,
   "metadata": {},
   "outputs": [
    {
     "name": "stdout",
     "output_type": "stream",
     "text": [
      "P_3= 0.0278\n"
     ]
    }
   ],
   "source": [
    "P_3 = 6/216\n",
    "print('P_3=',f\"{P_3:.4f}\")"
   ]
  },
  {
   "cell_type": "markdown",
   "metadata": {},
   "source": [
    "* Xác xuất để ra 2 mặt giống, một mặt khác (vd: {bbn},{bbt},{nnt},{nnc}): $$ P2= \\frac{6 \\times 5}{6 \\times 6 \\times 6}  $$\n",
    "\n",
    "\n",
    " \n"
   ]
  },
  {
   "cell_type": "markdown",
   "metadata": {},
   "source": [
    "(trên link wiki trò tôm cua thầy dẫn để tới 90 trường hợp P2, nhưng mà {bbn} thì cũng giống {bnb} hay {nbb} nên ko cần nhân 3, nên chỉ là 30 trường hợp) \n",
    "\n",
    "Xác xuất của P2 là:"
   ]
  },
  {
   "cell_type": "code",
   "execution_count": 3,
   "metadata": {},
   "outputs": [
    {
     "name": "stdout",
     "output_type": "stream",
     "text": [
      "P_2= 0.1389\n"
     ]
    }
   ],
   "source": [
    "P_2 = 30/216\n",
    "print('P_2=',f\"{P_2:.4f}\")"
   ]
  },
  {
   "cell_type": "markdown",
   "metadata": {},
   "source": [
    "* Xác xuất để ra 3 mặt đôi một khác nhau: \n",
    "    $$ P0 = \\frac{6}{6} \\times \\frac{5}{6} \\times \\frac{4}{6} $$\n"
   ]
  },
  {
   "cell_type": "code",
   "execution_count": 4,
   "metadata": {},
   "outputs": [
    {
     "name": "stdout",
     "output_type": "stream",
     "text": [
      "P_0= 0.5556\n"
     ]
    }
   ],
   "source": [
    "P_0 = 6/6*5/6*4/6\n",
    "print('P_0=',f\"{P_0:.4f}\")"
   ]
  },
  {
   "cell_type": "markdown",
   "metadata": {},
   "source": [
    "###### Nhận xét: \n",
    "Vậy khả năng xúc xắc ra 3 mặt khác nhau là cao nhất, cao hơn nhiều so với 2 trường hợp còn lại"
   ]
  },
  {
   "cell_type": "markdown",
   "metadata": {},
   "source": [
    "#### Tiếp theo ta tính xác xuất cơ hội thắng của người đặt cược: \n",
    "\n",
    "Đối với phương án 1 ( 3 tờ 3 cửa), để thắng (sinh lời) thì người chơi phải thắng ít nhất 2 cửa hoặc cả ba cửa\n",
    "Giả sử trong ba cửa một cửa đã trật thì tỉ lệ thắng 2 cửa còn lại là \n",
    "$$ Pwin1_a = \\frac{1}{5} \\times \\frac{1}{4} = \\frac{1}{20}$$\n",
    "Còn xác xuất để thắng 3/3 cửa là:\n",
    "$$ Pwin1_b = \\frac{1}{6} \\times \\frac{1}{5} \\times \\frac{1}{4} = \\frac{1}{120}$$\n",
    "Vậy xác suất để sinh lời với phương án 1 là: \n",
    "$$ Pwin1 = Pwin1_a + Pwin1_b = \\frac{1}{20} +  \\frac{1}{120} = \\frac{7}{120} \\approx \\frac{1}{17} $$"
   ]
  },
  {
   "cell_type": "markdown",
   "metadata": {},
   "source": [
    "Đối với phương án 2 ( 1 cửa 2000, 1 cửa 1000), để thắng (sinh lời) thì người chơi phải thắng 1 cửa đặt 2000 hoặc thắng cả 2 cửa. Xác xuất thắng đối với phương án 2 là: \n",
    "$$ Pwin2 = \\frac{1}{6}  + \\frac{1}{6} \\times \\frac{1}{5} = \\frac{1}{5} $$"
   ]
  },
  {
   "cell_type": "markdown",
   "metadata": {},
   "source": [
    "Đối với phương án 3 ( 3 cửa vô một mặt ), để thắng (sinh lời) thì người chơi phải thắng cửa duy nhất đó. Xác xuất thắng là: \n",
    "$$ Pwin3 = \\frac{1}{6}  $$"
   ]
  },
  {
   "cell_type": "markdown",
   "metadata": {},
   "source": [
    "#### Nhận xét: \n",
    "Ta thấy đối với phương án 1, tỉ lệ sinh lời khá thấp, tạm bỏ qua.\n",
    "\n",
    "Đối với phương án 2 và 3 thoạt nhìn qua có xác xuất sinh lời không chênh lệch nhiều. Thậm chí phương án 3 nếu thắng còn sinh lời gấp nhiều lần phương án 2 (làm nhân đôi số tiền vừa đặt).\n",
    "\n",
    "** Xét trường hợp ba mặt xúc xắc đôi một khác nhau (Xác xuất P_0 = 0,5556, khá lớn, hay xảy ra nhất):\n",
    "\n",
    "+ Đối với phương án 3, tỉ lệ để xúc xắc hiện đúng mặt mình cược là $3/6 = 50\\%$ tức là ta có cơ hội với 1 nửa bàn cờ, khi thắng được thêm tiền. \n",
    "\n",
    "+ Đối với phương án 2, nếu chỉ thắng 1 cửa 2000 thì được chung 2000, bị mất 1000 => hòa vốn. Bắt buộc phải thắng cả 2 cửa mới có lời. Vậy tỉ lệ để xúc xắc hiện đúng 2 mặt mình đặt được là $1/2 \\times \\frac{1}{C_{3}^{2}}=\\frac{1}{6} \\approx 16,6\\% $ khó thắng hơn rất nhiều so với phương án 1 cửa 3000đ\n",
    "\n",
    "#### Vậy nên chọn phương án đặt hết 3 tờ tiền vào 1 cửa. \n",
    "Trong thực tế người ta cũng chơi kiểu 1 cửa là phổ biến nhất. Trên đây chỉ là tính toán lý thuyết, đối với trò chơi may rủi thì phụ thuộc vào may mắn nhiều nhất. \n",
    " \n"
   ]
  },
  {
   "cell_type": "markdown",
   "metadata": {},
   "source": [
    "## Câu 2\n"
   ]
  },
  {
   "cell_type": "markdown",
   "metadata": {},
   "source": [
    "#### câu a: \n",
    "\n",
    "Vì mỗi ván phải nộp 2đ nên để ít nhất là hòa thì ta phải bốc được từ bi số 2 trở lên.\n",
    "\n",
    "Xác xuất bốc được bi số 2 là $ P2 = \\frac{3}{12}  $\n",
    "\n",
    "Xác xuất bốc được bi số 3 là $ P3 = \\frac{2}{12}  $ \n",
    "\n",
    "Xác xuất bốc được bi số 4 là $ P4 = \\frac{1}{12} $ \n",
    "\n",
    "Xác xuất từ hòa tới thắng là $$ Pw = P2 + P3 + P4 = \\frac{1}{12} =  50\\% $$\n",
    "\n",
    "Vậy nếu muốn thử may mắn thì ta nên chơi trò này vì xác xuất hòa đến thắng khá cao. Khi thắng được thêm tiền để bù cho ván thua.  "
   ]
  },
  {
   "cell_type": "markdown",
   "metadata": {},
   "source": [
    "Ta thử cho mẫu và tính tỉ lệ những ván hòa và ván thắng: "
   ]
  },
  {
   "cell_type": "code",
   "execution_count": 5,
   "metadata": {},
   "outputs": [
    {
     "data": {
      "text/plain": [
       "0.4981"
      ]
     },
     "execution_count": 5,
     "metadata": {},
     "output_type": "execute_result"
    }
   ],
   "source": [
    "import pandas as pd\n",
    "import numpy as np\n",
    "\n",
    "def cal_prob(N):\n",
    "    box = [ 1,1,1,1,1,1,2,2,2,3,3,4]\n",
    "    count = 0\n",
    "    for i in range (N):\n",
    "        samples = np.random.choice(box, size = 1, replace = True)\n",
    "        if samples == 2 or samples == 3 or samples == 4:\n",
    "            count += 1        \n",
    "    return count/N\n",
    "\n",
    "N = 10000\n",
    "cal_prob(N)"
   ]
  },
  {
   "cell_type": "markdown",
   "metadata": {},
   "source": [
    "##### Vậy tỉ lệ trung bình từ hòa tới thắng rơi vào khoảng 50%"
   ]
  },
  {
   "cell_type": "markdown",
   "metadata": {},
   "source": [
    "#### Câu b: "
   ]
  },
  {
   "cell_type": "markdown",
   "metadata": {},
   "source": [
    "Giả sử nếu người chơi bốc được bi số 4 thì nhà cái cho chơi thêm lần nữa mà chỉ đóng 1đ. \n",
    "\n",
    "Lúc bốc được bi số 4 này ta đã lời được 2 đồng, giờ ta bỏ ra 1 đồng lời để chơi tiếp thì cho dù ta có bốc phải bi số 1 ta vẫn không thiệt. Mà xác xuất sinh lời (bốc được 2, 3, 4) đã lên tới 50%. \n",
    "\n",
    "###### Vậy thì ta nên thử vận may với 1 đồng đặt tiếp. "
   ]
  },
  {
   "cell_type": "markdown",
   "metadata": {},
   "source": [
    "## Câu 3: \n"
   ]
  },
  {
   "cell_type": "markdown",
   "metadata": {},
   "source": [
    "Giả sử mỗi người đều đợi hết khoảng thời gian mình có thể đợi. \n",
    "\n",
    "Ta cho 8h là mốc $t=0$, 9h là mốc thứ $t=61$.\n",
    "\n",
    "Từ $t=0$ đến $t=41$, mỗi người đều có thể đợi đủ 20 phút => 42 mốc t đợi 20p. \n",
    "\n",
    "$t=42$ chỉ có thể đợi 19 phút thì đã đến 9h($t=61$) nên ta về\n",
    "\n",
    "$t=43$, đợi 18 phút ... $t=60$ đợi 1 phút. \n",
    "\n",
    "Tức là từ $t=42$ trở đi mỗi mốc thời gian có 1 thời gian chờ khác nhau từ 1 phút đến 19 phút. \n",
    "\n",
    "Ta lập bảng tần số thời gian chờ. "
   ]
  },
  {
   "cell_type": "code",
   "execution_count": 6,
   "metadata": {},
   "outputs": [
    {
     "name": "stdout",
     "output_type": "stream",
     "text": [
      "{1: 1, 2: 1, 3: 1, 4: 1, 5: 1, 6: 1, 7: 1, 8: 1, 9: 1, 10: 1, 11: 1, 12: 1, 13: 1, 14: 1, 15: 1, 16: 1, 17: 1, 18: 1, 19: 1, 20: 42}\n"
     ]
    }
   ],
   "source": [
    "import pandas as pd\n",
    "import numpy as np3\n",
    "\n",
    "wait = {1:1,2:1,3:1,4:1,5:1,6:1,7:1,8:1,9:1,10:1,11:1,12:1,13:1,14:1,15:1,16:1,17:1,18:1,19:1,20:42}\n",
    " \n",
    "print(wait)"
   ]
  },
  {
   "cell_type": "markdown",
   "metadata": {},
   "source": [
    "Dựa theo bảng tần số, ta tính mean của thời gian chờ: "
   ]
  },
  {
   "cell_type": "code",
   "execution_count": 7,
   "metadata": {},
   "outputs": [
    {
     "name": "stdout",
     "output_type": "stream",
     "text": [
      "Thoi gian cho trung binh:  16.89\n"
     ]
    }
   ],
   "source": [
    "def mean(score):\n",
    "    n = sum(score.values())\n",
    "    return sum([x * (f/n) for x, f in score.items()])\n",
    "\n",
    "print('Thoi gian cho trung binh:', f\" {mean(wait):.2f}\")"
   ]
  },
  {
   "cell_type": "markdown",
   "metadata": {},
   "source": [
    "##### Vậy thời gian chờ trung bình là khoảng 17 phút. "
   ]
  }
 ],
 "metadata": {
  "kernelspec": {
   "display_name": "Python 3",
   "language": "python",
   "name": "python3"
  },
  "language_info": {
   "codemirror_mode": {
    "name": "ipython",
    "version": 3
   },
   "file_extension": ".py",
   "mimetype": "text/x-python",
   "name": "python",
   "nbconvert_exporter": "python",
   "pygments_lexer": "ipython3",
   "version": "3.7.6"
  }
 },
 "nbformat": 4,
 "nbformat_minor": 4
}
